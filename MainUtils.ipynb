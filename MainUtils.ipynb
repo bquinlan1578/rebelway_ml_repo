{
 "cells": [
  {
   "cell_type": "code",
   "execution_count": 1,
   "id": "5e496450-c8a6-4cec-8135-a5ba410f9183",
   "metadata": {},
   "outputs": [],
   "source": [
    "import pandas as pd\n",
    "import numpy as np"
   ]
  },
  {
   "cell_type": "code",
   "execution_count": 2,
   "id": "aad0d610-2ba3-4a40-a743-837078403974",
   "metadata": {},
   "outputs": [],
   "source": [
    "df_aave = pd.read_csv(\"/Users/felipepesantez/Documents/development/datasets/crypto/coin_Aave.csv\")\n",
    "df_bitcoin = pd.read_csv(\"/Users/felipepesantez/Documents/development/datasets/crypto/coin_Bitcoin.csv\")\n",
    "df_ethereum = pd.read_csv(\"/Users/felipepesantez/Documents/development/datasets/crypto/coin_Ethereum.csv\")"
   ]
  },
  {
   "cell_type": "code",
   "execution_count": 3,
   "id": "b997bf06-c281-4826-83c1-882950455228",
   "metadata": {},
   "outputs": [
    {
     "data": {
      "text/html": [
       "<div>\n",
       "<style scoped>\n",
       "    .dataframe tbody tr th:only-of-type {\n",
       "        vertical-align: middle;\n",
       "    }\n",
       "\n",
       "    .dataframe tbody tr th {\n",
       "        vertical-align: top;\n",
       "    }\n",
       "\n",
       "    .dataframe thead th {\n",
       "        text-align: right;\n",
       "    }\n",
       "</style>\n",
       "<table border=\"1\" class=\"dataframe\">\n",
       "  <thead>\n",
       "    <tr style=\"text-align: right;\">\n",
       "      <th></th>\n",
       "      <th>SNo</th>\n",
       "      <th>Name</th>\n",
       "      <th>Symbol</th>\n",
       "      <th>Date</th>\n",
       "      <th>High</th>\n",
       "      <th>Low</th>\n",
       "      <th>Open</th>\n",
       "      <th>Close</th>\n",
       "      <th>Volume</th>\n",
       "      <th>Marketcap</th>\n",
       "    </tr>\n",
       "  </thead>\n",
       "  <tbody>\n",
       "    <tr>\n",
       "      <th>0</th>\n",
       "      <td>1</td>\n",
       "      <td>Aave</td>\n",
       "      <td>AAVE</td>\n",
       "      <td>2020-10-05 23:59:59</td>\n",
       "      <td>55.112358</td>\n",
       "      <td>49.787900</td>\n",
       "      <td>52.675035</td>\n",
       "      <td>53.219243</td>\n",
       "      <td>0.000000e+00</td>\n",
       "      <td>8.912813e+07</td>\n",
       "    </tr>\n",
       "    <tr>\n",
       "      <th>1</th>\n",
       "      <td>2</td>\n",
       "      <td>Aave</td>\n",
       "      <td>AAVE</td>\n",
       "      <td>2020-10-06 23:59:59</td>\n",
       "      <td>53.402270</td>\n",
       "      <td>40.734578</td>\n",
       "      <td>53.291969</td>\n",
       "      <td>42.401599</td>\n",
       "      <td>5.830915e+05</td>\n",
       "      <td>7.101144e+07</td>\n",
       "    </tr>\n",
       "    <tr>\n",
       "      <th>2</th>\n",
       "      <td>3</td>\n",
       "      <td>Aave</td>\n",
       "      <td>AAVE</td>\n",
       "      <td>2020-10-07 23:59:59</td>\n",
       "      <td>42.408314</td>\n",
       "      <td>35.970690</td>\n",
       "      <td>42.399947</td>\n",
       "      <td>40.083976</td>\n",
       "      <td>6.828342e+05</td>\n",
       "      <td>6.713004e+07</td>\n",
       "    </tr>\n",
       "    <tr>\n",
       "      <th>3</th>\n",
       "      <td>4</td>\n",
       "      <td>Aave</td>\n",
       "      <td>AAVE</td>\n",
       "      <td>2020-10-08 23:59:59</td>\n",
       "      <td>44.902511</td>\n",
       "      <td>36.696057</td>\n",
       "      <td>39.885262</td>\n",
       "      <td>43.764463</td>\n",
       "      <td>1.658817e+06</td>\n",
       "      <td>2.202651e+08</td>\n",
       "    </tr>\n",
       "    <tr>\n",
       "      <th>4</th>\n",
       "      <td>5</td>\n",
       "      <td>Aave</td>\n",
       "      <td>AAVE</td>\n",
       "      <td>2020-10-09 23:59:59</td>\n",
       "      <td>47.569533</td>\n",
       "      <td>43.291776</td>\n",
       "      <td>43.764463</td>\n",
       "      <td>46.817744</td>\n",
       "      <td>8.155377e+05</td>\n",
       "      <td>2.356322e+08</td>\n",
       "    </tr>\n",
       "  </tbody>\n",
       "</table>\n",
       "</div>"
      ],
      "text/plain": [
       "   SNo  Name Symbol                 Date       High        Low       Open  \\\n",
       "0    1  Aave   AAVE  2020-10-05 23:59:59  55.112358  49.787900  52.675035   \n",
       "1    2  Aave   AAVE  2020-10-06 23:59:59  53.402270  40.734578  53.291969   \n",
       "2    3  Aave   AAVE  2020-10-07 23:59:59  42.408314  35.970690  42.399947   \n",
       "3    4  Aave   AAVE  2020-10-08 23:59:59  44.902511  36.696057  39.885262   \n",
       "4    5  Aave   AAVE  2020-10-09 23:59:59  47.569533  43.291776  43.764463   \n",
       "\n",
       "       Close        Volume     Marketcap  \n",
       "0  53.219243  0.000000e+00  8.912813e+07  \n",
       "1  42.401599  5.830915e+05  7.101144e+07  \n",
       "2  40.083976  6.828342e+05  6.713004e+07  \n",
       "3  43.764463  1.658817e+06  2.202651e+08  \n",
       "4  46.817744  8.155377e+05  2.356322e+08  "
      ]
     },
     "execution_count": 3,
     "metadata": {},
     "output_type": "execute_result"
    }
   ],
   "source": [
    "df_aave.head()"
   ]
  },
  {
   "cell_type": "code",
   "execution_count": 4,
   "id": "2ffe56c1-ce36-4ba3-a4cb-2c14bf2d148c",
   "metadata": {},
   "outputs": [
    {
     "data": {
      "text/html": [
       "<div>\n",
       "<style scoped>\n",
       "    .dataframe tbody tr th:only-of-type {\n",
       "        vertical-align: middle;\n",
       "    }\n",
       "\n",
       "    .dataframe tbody tr th {\n",
       "        vertical-align: top;\n",
       "    }\n",
       "\n",
       "    .dataframe thead th {\n",
       "        text-align: right;\n",
       "    }\n",
       "</style>\n",
       "<table border=\"1\" class=\"dataframe\">\n",
       "  <thead>\n",
       "    <tr style=\"text-align: right;\">\n",
       "      <th></th>\n",
       "      <th>SNo</th>\n",
       "      <th>High</th>\n",
       "      <th>Low</th>\n",
       "      <th>Open</th>\n",
       "      <th>Close</th>\n",
       "      <th>Volume</th>\n",
       "      <th>Marketcap</th>\n",
       "    </tr>\n",
       "  </thead>\n",
       "  <tbody>\n",
       "    <tr>\n",
       "      <th>count</th>\n",
       "      <td>275.000000</td>\n",
       "      <td>275.000000</td>\n",
       "      <td>275.000000</td>\n",
       "      <td>275.000000</td>\n",
       "      <td>275.000000</td>\n",
       "      <td>2.750000e+02</td>\n",
       "      <td>2.750000e+02</td>\n",
       "    </tr>\n",
       "    <tr>\n",
       "      <th>mean</th>\n",
       "      <td>138.000000</td>\n",
       "      <td>271.306751</td>\n",
       "      <td>237.736035</td>\n",
       "      <td>254.506688</td>\n",
       "      <td>255.525845</td>\n",
       "      <td>5.023421e+08</td>\n",
       "      <td>3.168639e+09</td>\n",
       "    </tr>\n",
       "    <tr>\n",
       "      <th>std</th>\n",
       "      <td>79.529869</td>\n",
       "      <td>173.030432</td>\n",
       "      <td>151.302431</td>\n",
       "      <td>162.067209</td>\n",
       "      <td>161.649917</td>\n",
       "      <td>4.527200e+08</td>\n",
       "      <td>2.066558e+09</td>\n",
       "    </tr>\n",
       "    <tr>\n",
       "      <th>min</th>\n",
       "      <td>1.000000</td>\n",
       "      <td>28.433069</td>\n",
       "      <td>25.966155</td>\n",
       "      <td>27.715080</td>\n",
       "      <td>27.715084</td>\n",
       "      <td>0.000000e+00</td>\n",
       "      <td>6.713004e+07</td>\n",
       "    </tr>\n",
       "    <tr>\n",
       "      <th>25%</th>\n",
       "      <td>69.500000</td>\n",
       "      <td>85.078206</td>\n",
       "      <td>76.038104</td>\n",
       "      <td>80.557436</td>\n",
       "      <td>81.100120</td>\n",
       "      <td>2.400042e+08</td>\n",
       "      <td>9.736814e+08</td>\n",
       "    </tr>\n",
       "    <tr>\n",
       "      <th>50%</th>\n",
       "      <td>138.000000</td>\n",
       "      <td>306.990536</td>\n",
       "      <td>274.746278</td>\n",
       "      <td>292.268571</td>\n",
       "      <td>295.089229</td>\n",
       "      <td>3.693558e+08</td>\n",
       "      <td>3.697227e+09</td>\n",
       "    </tr>\n",
       "    <tr>\n",
       "      <th>75%</th>\n",
       "      <td>206.500000</td>\n",
       "      <td>407.518278</td>\n",
       "      <td>361.685763</td>\n",
       "      <td>382.275163</td>\n",
       "      <td>382.579255</td>\n",
       "      <td>6.204643e+08</td>\n",
       "      <td>4.784464e+09</td>\n",
       "    </tr>\n",
       "    <tr>\n",
       "      <th>max</th>\n",
       "      <td>275.000000</td>\n",
       "      <td>666.864979</td>\n",
       "      <td>565.749887</td>\n",
       "      <td>629.231665</td>\n",
       "      <td>632.266488</td>\n",
       "      <td>2.838573e+09</td>\n",
       "      <td>8.063210e+09</td>\n",
       "    </tr>\n",
       "  </tbody>\n",
       "</table>\n",
       "</div>"
      ],
      "text/plain": [
       "              SNo        High         Low        Open       Close  \\\n",
       "count  275.000000  275.000000  275.000000  275.000000  275.000000   \n",
       "mean   138.000000  271.306751  237.736035  254.506688  255.525845   \n",
       "std     79.529869  173.030432  151.302431  162.067209  161.649917   \n",
       "min      1.000000   28.433069   25.966155   27.715080   27.715084   \n",
       "25%     69.500000   85.078206   76.038104   80.557436   81.100120   \n",
       "50%    138.000000  306.990536  274.746278  292.268571  295.089229   \n",
       "75%    206.500000  407.518278  361.685763  382.275163  382.579255   \n",
       "max    275.000000  666.864979  565.749887  629.231665  632.266488   \n",
       "\n",
       "             Volume     Marketcap  \n",
       "count  2.750000e+02  2.750000e+02  \n",
       "mean   5.023421e+08  3.168639e+09  \n",
       "std    4.527200e+08  2.066558e+09  \n",
       "min    0.000000e+00  6.713004e+07  \n",
       "25%    2.400042e+08  9.736814e+08  \n",
       "50%    3.693558e+08  3.697227e+09  \n",
       "75%    6.204643e+08  4.784464e+09  \n",
       "max    2.838573e+09  8.063210e+09  "
      ]
     },
     "execution_count": 4,
     "metadata": {},
     "output_type": "execute_result"
    }
   ],
   "source": [
    "df_aave.describe()"
   ]
  },
  {
   "cell_type": "code",
   "execution_count": 6,
   "id": "29bb54c1-4e6b-4503-8108-2c1fcf75475d",
   "metadata": {},
   "outputs": [
    {
     "data": {
      "text/plain": [
       "275"
      ]
     },
     "execution_count": 6,
     "metadata": {},
     "output_type": "execute_result"
    }
   ],
   "source": [
    "len(df_aave[\"High\"].unique())"
   ]
  },
  {
   "cell_type": "code",
   "execution_count": 7,
   "id": "873ee1ac-e8ae-482c-8633-e47fb1d62e35",
   "metadata": {},
   "outputs": [
    {
     "data": {
      "text/plain": [
       "275"
      ]
     },
     "execution_count": 7,
     "metadata": {},
     "output_type": "execute_result"
    }
   ],
   "source": [
    "len(df_aave)"
   ]
  },
  {
   "cell_type": "code",
   "execution_count": 9,
   "id": "5eaa6055-fa5b-4de1-ab7a-b85223c68fec",
   "metadata": {},
   "outputs": [
    {
     "data": {
      "text/plain": [
       "Volume\n",
       "0.000000e+00    1\n",
       "3.309597e+08    1\n",
       "2.784069e+08    1\n",
       "1.870749e+08    1\n",
       "2.618228e+08    1\n",
       "               ..\n",
       "5.124026e+08    1\n",
       "6.100953e+08    1\n",
       "5.412594e+08    1\n",
       "5.400908e+08    1\n",
       "9.887055e+08    1\n",
       "Name: count, Length: 275, dtype: int64"
      ]
     },
     "execution_count": 9,
     "metadata": {},
     "output_type": "execute_result"
    }
   ],
   "source": [
    "df_aave[\"Volume\"].value_counts()"
   ]
  },
  {
   "cell_type": "code",
   "execution_count": 10,
   "id": "8f0259d1-20ad-495b-9997-78509b2c95fb",
   "metadata": {},
   "outputs": [],
   "source": [
    "df = pd.concat([df_aave, df_bitcoin, df_ethereum])"
   ]
  },
  {
   "cell_type": "code",
   "execution_count": 11,
   "id": "bc9155a0-fdbd-448b-bb6f-d5971c0ac765",
   "metadata": {},
   "outputs": [
    {
     "name": "stdout",
     "output_type": "stream",
     "text": [
      "<class 'pandas.core.frame.DataFrame'>\n",
      "Index: 5426 entries, 0 to 2159\n",
      "Data columns (total 10 columns):\n",
      " #   Column     Non-Null Count  Dtype  \n",
      "---  ------     --------------  -----  \n",
      " 0   SNo        5426 non-null   int64  \n",
      " 1   Name       5426 non-null   object \n",
      " 2   Symbol     5426 non-null   object \n",
      " 3   Date       5426 non-null   object \n",
      " 4   High       5426 non-null   float64\n",
      " 5   Low        5426 non-null   float64\n",
      " 6   Open       5426 non-null   float64\n",
      " 7   Close      5426 non-null   float64\n",
      " 8   Volume     5426 non-null   float64\n",
      " 9   Marketcap  5426 non-null   float64\n",
      "dtypes: float64(6), int64(1), object(3)\n",
      "memory usage: 466.3+ KB\n"
     ]
    }
   ],
   "source": [
    "df.info()"
   ]
  },
  {
   "cell_type": "code",
   "execution_count": 12,
   "id": "4d046b65-33e3-4326-95dc-cd9740a4c468",
   "metadata": {},
   "outputs": [
    {
     "data": {
      "text/html": [
       "<div>\n",
       "<style scoped>\n",
       "    .dataframe tbody tr th:only-of-type {\n",
       "        vertical-align: middle;\n",
       "    }\n",
       "\n",
       "    .dataframe tbody tr th {\n",
       "        vertical-align: top;\n",
       "    }\n",
       "\n",
       "    .dataframe thead th {\n",
       "        text-align: right;\n",
       "    }\n",
       "</style>\n",
       "<table border=\"1\" class=\"dataframe\">\n",
       "  <thead>\n",
       "    <tr style=\"text-align: right;\">\n",
       "      <th></th>\n",
       "      <th>SNo</th>\n",
       "      <th>High</th>\n",
       "      <th>Low</th>\n",
       "      <th>Open</th>\n",
       "      <th>Close</th>\n",
       "      <th>Volume</th>\n",
       "      <th>Marketcap</th>\n",
       "    </tr>\n",
       "  </thead>\n",
       "  <tbody>\n",
       "    <tr>\n",
       "      <th>count</th>\n",
       "      <td>5426.000000</td>\n",
       "      <td>5426.000000</td>\n",
       "      <td>5426.000000</td>\n",
       "      <td>5426.000000</td>\n",
       "      <td>5426.000000</td>\n",
       "      <td>5.426000e+03</td>\n",
       "      <td>5.426000e+03</td>\n",
       "    </tr>\n",
       "    <tr>\n",
       "      <th>mean</th>\n",
       "      <td>1261.770365</td>\n",
       "      <td>3972.131597</td>\n",
       "      <td>3732.899361</td>\n",
       "      <td>3858.670720</td>\n",
       "      <td>3865.275786</td>\n",
       "      <td>8.846707e+09</td>\n",
       "      <td>8.340005e+10</td>\n",
       "    </tr>\n",
       "    <tr>\n",
       "      <th>std</th>\n",
       "      <td>820.667356</td>\n",
       "      <td>9238.763218</td>\n",
       "      <td>8634.380139</td>\n",
       "      <td>8960.600522</td>\n",
       "      <td>8969.416250</td>\n",
       "      <td>1.577656e+10</td>\n",
       "      <td>1.679794e+11</td>\n",
       "    </tr>\n",
       "    <tr>\n",
       "      <th>min</th>\n",
       "      <td>1.000000</td>\n",
       "      <td>0.482988</td>\n",
       "      <td>0.420897</td>\n",
       "      <td>0.431589</td>\n",
       "      <td>0.434829</td>\n",
       "      <td>0.000000e+00</td>\n",
       "      <td>3.221363e+07</td>\n",
       "    </tr>\n",
       "    <tr>\n",
       "      <th>25%</th>\n",
       "      <td>541.250000</td>\n",
       "      <td>202.733057</td>\n",
       "      <td>186.895165</td>\n",
       "      <td>195.613103</td>\n",
       "      <td>196.605806</td>\n",
       "      <td>3.720180e+07</td>\n",
       "      <td>4.709428e+09</td>\n",
       "    </tr>\n",
       "    <tr>\n",
       "      <th>50%</th>\n",
       "      <td>1219.500000</td>\n",
       "      <td>450.661499</td>\n",
       "      <td>429.076996</td>\n",
       "      <td>440.429642</td>\n",
       "      <td>440.590957</td>\n",
       "      <td>1.477165e+09</td>\n",
       "      <td>1.948814e+10</td>\n",
       "    </tr>\n",
       "    <tr>\n",
       "      <th>75%</th>\n",
       "      <td>1897.750000</td>\n",
       "      <td>3920.327703</td>\n",
       "      <td>3706.273477</td>\n",
       "      <td>3842.948458</td>\n",
       "      <td>3846.680390</td>\n",
       "      <td>1.079193e+10</td>\n",
       "      <td>1.054379e+11</td>\n",
       "    </tr>\n",
       "    <tr>\n",
       "      <th>max</th>\n",
       "      <td>2991.000000</td>\n",
       "      <td>64863.098908</td>\n",
       "      <td>62208.964366</td>\n",
       "      <td>63523.754869</td>\n",
       "      <td>63503.457930</td>\n",
       "      <td>3.509679e+11</td>\n",
       "      <td>1.186364e+12</td>\n",
       "    </tr>\n",
       "  </tbody>\n",
       "</table>\n",
       "</div>"
      ],
      "text/plain": [
       "               SNo          High           Low          Open         Close  \\\n",
       "count  5426.000000   5426.000000   5426.000000   5426.000000   5426.000000   \n",
       "mean   1261.770365   3972.131597   3732.899361   3858.670720   3865.275786   \n",
       "std     820.667356   9238.763218   8634.380139   8960.600522   8969.416250   \n",
       "min       1.000000      0.482988      0.420897      0.431589      0.434829   \n",
       "25%     541.250000    202.733057    186.895165    195.613103    196.605806   \n",
       "50%    1219.500000    450.661499    429.076996    440.429642    440.590957   \n",
       "75%    1897.750000   3920.327703   3706.273477   3842.948458   3846.680390   \n",
       "max    2991.000000  64863.098908  62208.964366  63523.754869  63503.457930   \n",
       "\n",
       "             Volume     Marketcap  \n",
       "count  5.426000e+03  5.426000e+03  \n",
       "mean   8.846707e+09  8.340005e+10  \n",
       "std    1.577656e+10  1.679794e+11  \n",
       "min    0.000000e+00  3.221363e+07  \n",
       "25%    3.720180e+07  4.709428e+09  \n",
       "50%    1.477165e+09  1.948814e+10  \n",
       "75%    1.079193e+10  1.054379e+11  \n",
       "max    3.509679e+11  1.186364e+12  "
      ]
     },
     "execution_count": 12,
     "metadata": {},
     "output_type": "execute_result"
    }
   ],
   "source": [
    "df.describe()"
   ]
  },
  {
   "cell_type": "code",
   "execution_count": 13,
   "id": "82dfd678-ea48-4c8a-b967-ed708c8e1424",
   "metadata": {},
   "outputs": [
    {
     "data": {
      "text/html": [
       "<div>\n",
       "<style scoped>\n",
       "    .dataframe tbody tr th:only-of-type {\n",
       "        vertical-align: middle;\n",
       "    }\n",
       "\n",
       "    .dataframe tbody tr th {\n",
       "        vertical-align: top;\n",
       "    }\n",
       "\n",
       "    .dataframe thead th {\n",
       "        text-align: right;\n",
       "    }\n",
       "</style>\n",
       "<table border=\"1\" class=\"dataframe\">\n",
       "  <thead>\n",
       "    <tr style=\"text-align: right;\">\n",
       "      <th></th>\n",
       "      <th>SNo</th>\n",
       "      <th>Name</th>\n",
       "      <th>Symbol</th>\n",
       "      <th>Date</th>\n",
       "      <th>High</th>\n",
       "      <th>Low</th>\n",
       "      <th>Open</th>\n",
       "      <th>Close</th>\n",
       "      <th>Volume</th>\n",
       "      <th>Marketcap</th>\n",
       "    </tr>\n",
       "  </thead>\n",
       "  <tbody>\n",
       "    <tr>\n",
       "      <th>2155</th>\n",
       "      <td>2156</td>\n",
       "      <td>Ethereum</td>\n",
       "      <td>ETH</td>\n",
       "      <td>2021-07-02 23:59:59</td>\n",
       "      <td>2155.596496</td>\n",
       "      <td>2021.824808</td>\n",
       "      <td>2109.892677</td>\n",
       "      <td>2150.040364</td>\n",
       "      <td>3.179621e+10</td>\n",
       "      <td>2.505527e+11</td>\n",
       "    </tr>\n",
       "    <tr>\n",
       "      <th>2156</th>\n",
       "      <td>2157</td>\n",
       "      <td>Ethereum</td>\n",
       "      <td>ETH</td>\n",
       "      <td>2021-07-03 23:59:59</td>\n",
       "      <td>2237.567155</td>\n",
       "      <td>2117.590013</td>\n",
       "      <td>2150.835025</td>\n",
       "      <td>2226.114282</td>\n",
       "      <td>1.743336e+10</td>\n",
       "      <td>2.594475e+11</td>\n",
       "    </tr>\n",
       "    <tr>\n",
       "      <th>2157</th>\n",
       "      <td>2158</td>\n",
       "      <td>Ethereum</td>\n",
       "      <td>ETH</td>\n",
       "      <td>2021-07-04 23:59:59</td>\n",
       "      <td>2384.286857</td>\n",
       "      <td>2190.837703</td>\n",
       "      <td>2226.550382</td>\n",
       "      <td>2321.724112</td>\n",
       "      <td>1.878711e+10</td>\n",
       "      <td>2.706217e+11</td>\n",
       "    </tr>\n",
       "    <tr>\n",
       "      <th>2158</th>\n",
       "      <td>2159</td>\n",
       "      <td>Ethereum</td>\n",
       "      <td>ETH</td>\n",
       "      <td>2021-07-05 23:59:59</td>\n",
       "      <td>2321.922836</td>\n",
       "      <td>2163.041394</td>\n",
       "      <td>2321.922836</td>\n",
       "      <td>2198.582464</td>\n",
       "      <td>2.010379e+10</td>\n",
       "      <td>2.562978e+11</td>\n",
       "    </tr>\n",
       "    <tr>\n",
       "      <th>2159</th>\n",
       "      <td>2160</td>\n",
       "      <td>Ethereum</td>\n",
       "      <td>ETH</td>\n",
       "      <td>2021-07-06 23:59:59</td>\n",
       "      <td>2346.294874</td>\n",
       "      <td>2197.919385</td>\n",
       "      <td>2197.919385</td>\n",
       "      <td>2324.679449</td>\n",
       "      <td>2.089186e+10</td>\n",
       "      <td>2.710286e+11</td>\n",
       "    </tr>\n",
       "  </tbody>\n",
       "</table>\n",
       "</div>"
      ],
      "text/plain": [
       "       SNo      Name Symbol                 Date         High          Low  \\\n",
       "2155  2156  Ethereum    ETH  2021-07-02 23:59:59  2155.596496  2021.824808   \n",
       "2156  2157  Ethereum    ETH  2021-07-03 23:59:59  2237.567155  2117.590013   \n",
       "2157  2158  Ethereum    ETH  2021-07-04 23:59:59  2384.286857  2190.837703   \n",
       "2158  2159  Ethereum    ETH  2021-07-05 23:59:59  2321.922836  2163.041394   \n",
       "2159  2160  Ethereum    ETH  2021-07-06 23:59:59  2346.294874  2197.919385   \n",
       "\n",
       "             Open        Close        Volume     Marketcap  \n",
       "2155  2109.892677  2150.040364  3.179621e+10  2.505527e+11  \n",
       "2156  2150.835025  2226.114282  1.743336e+10  2.594475e+11  \n",
       "2157  2226.550382  2321.724112  1.878711e+10  2.706217e+11  \n",
       "2158  2321.922836  2198.582464  2.010379e+10  2.562978e+11  \n",
       "2159  2197.919385  2324.679449  2.089186e+10  2.710286e+11  "
      ]
     },
     "execution_count": 13,
     "metadata": {},
     "output_type": "execute_result"
    }
   ],
   "source": [
    "df.tail()"
   ]
  },
  {
   "cell_type": "code",
   "execution_count": 14,
   "id": "3062f98f-e5ed-4f4d-97a0-806d7fa51c74",
   "metadata": {},
   "outputs": [
    {
     "data": {
      "text/plain": [
       "<Axes: xlabel='Open', ylabel='Close'>"
      ]
     },
     "execution_count": 14,
     "metadata": {},
     "output_type": "execute_result"
    },
    {
     "data": {
      "image/png": "[encoded data removed]",
      "text/plain": [
       "<Figure size 640x480 with 1 Axes>"
      ]
     },
     "metadata": {},
     "output_type": "display_data"
    }
   ],
   "source": [
    "df.plot(x=\"Open\", y=\"Close\",kind=\"scatter\")"
   ]
  },
  {
   "cell_type": "code",
   "execution_count": 16,
   "id": "519ed0d9-a97b-4bf8-aab3-12e0a6a3ca71",
   "metadata": {},
   "outputs": [
    {
     "data": {
      "text/plain": [
       "<Axes: xlabel='Volume', ylabel='High'>"
      ]
     },
     "execution_count": 16,
     "metadata": {},
     "output_type": "execute_result"
    },
    {
     "data": {
      "image/png": "[encoded data removed]",
      "text/plain": [
       "<Figure size 640x480 with 1 Axes>"
      ]
     },
     "metadata": {},
     "output_type": "display_data"
    }
   ],
   "source": [
    "df_bitcoin.plot(x=\"Volume\",y=\"High\",kind=\"scatter\")"
   ]
  },
  {
   "cell_type": "code",
   "execution_count": 28,
   "id": "f4dcf844-7caa-459b-998a-25dfb0068191",
   "metadata": {},
   "outputs": [],
   "source": [
    "import matplotlib.pyplot as plt"
   ]
  },
  {
   "cell_type": "code",
   "execution_count": 29,
   "id": "6e31454e-ce28-4ce8-8d41-c51c645024fe",
   "metadata": {},
   "outputs": [
    {
     "data": {
      "text/html": [
       "<div>\n",
       "<style scoped>\n",
       "    .dataframe tbody tr th:only-of-type {\n",
       "        vertical-align: middle;\n",
       "    }\n",
       "\n",
       "    .dataframe tbody tr th {\n",
       "        vertical-align: top;\n",
       "    }\n",
       "\n",
       "    .dataframe thead th {\n",
       "        text-align: right;\n",
       "    }\n",
       "</style>\n",
       "<table border=\"1\" class=\"dataframe\">\n",
       "  <thead>\n",
       "    <tr style=\"text-align: right;\">\n",
       "      <th></th>\n",
       "      <th>SNo</th>\n",
       "      <th>Name</th>\n",
       "      <th>Symbol</th>\n",
       "      <th>Date</th>\n",
       "      <th>High</th>\n",
       "      <th>Low</th>\n",
       "      <th>Open</th>\n",
       "      <th>Close</th>\n",
       "      <th>Volume</th>\n",
       "      <th>Marketcap</th>\n",
       "    </tr>\n",
       "  </thead>\n",
       "  <tbody>\n",
       "    <tr>\n",
       "      <th>0</th>\n",
       "      <td>1</td>\n",
       "      <td>Aave</td>\n",
       "      <td>AAVE</td>\n",
       "      <td>2020-10-05 23:59:59</td>\n",
       "      <td>55.112358</td>\n",
       "      <td>49.787900</td>\n",
       "      <td>52.675035</td>\n",
       "      <td>53.219243</td>\n",
       "      <td>0.000000e+00</td>\n",
       "      <td>8.912813e+07</td>\n",
       "    </tr>\n",
       "    <tr>\n",
       "      <th>1</th>\n",
       "      <td>2</td>\n",
       "      <td>Aave</td>\n",
       "      <td>AAVE</td>\n",
       "      <td>2020-10-06 23:59:59</td>\n",
       "      <td>53.402270</td>\n",
       "      <td>40.734578</td>\n",
       "      <td>53.291969</td>\n",
       "      <td>42.401599</td>\n",
       "      <td>5.830915e+05</td>\n",
       "      <td>7.101144e+07</td>\n",
       "    </tr>\n",
       "    <tr>\n",
       "      <th>2</th>\n",
       "      <td>3</td>\n",
       "      <td>Aave</td>\n",
       "      <td>AAVE</td>\n",
       "      <td>2020-10-07 23:59:59</td>\n",
       "      <td>42.408314</td>\n",
       "      <td>35.970690</td>\n",
       "      <td>42.399947</td>\n",
       "      <td>40.083976</td>\n",
       "      <td>6.828342e+05</td>\n",
       "      <td>6.713004e+07</td>\n",
       "    </tr>\n",
       "    <tr>\n",
       "      <th>3</th>\n",
       "      <td>4</td>\n",
       "      <td>Aave</td>\n",
       "      <td>AAVE</td>\n",
       "      <td>2020-10-08 23:59:59</td>\n",
       "      <td>44.902511</td>\n",
       "      <td>36.696057</td>\n",
       "      <td>39.885262</td>\n",
       "      <td>43.764463</td>\n",
       "      <td>1.658817e+06</td>\n",
       "      <td>2.202651e+08</td>\n",
       "    </tr>\n",
       "    <tr>\n",
       "      <th>4</th>\n",
       "      <td>5</td>\n",
       "      <td>Aave</td>\n",
       "      <td>AAVE</td>\n",
       "      <td>2020-10-09 23:59:59</td>\n",
       "      <td>47.569533</td>\n",
       "      <td>43.291776</td>\n",
       "      <td>43.764463</td>\n",
       "      <td>46.817744</td>\n",
       "      <td>8.155377e+05</td>\n",
       "      <td>2.356322e+08</td>\n",
       "    </tr>\n",
       "  </tbody>\n",
       "</table>\n",
       "</div>"
      ],
      "text/plain": [
       "   SNo  Name Symbol                 Date       High        Low       Open  \\\n",
       "0    1  Aave   AAVE  2020-10-05 23:59:59  55.112358  49.787900  52.675035   \n",
       "1    2  Aave   AAVE  2020-10-06 23:59:59  53.402270  40.734578  53.291969   \n",
       "2    3  Aave   AAVE  2020-10-07 23:59:59  42.408314  35.970690  42.399947   \n",
       "3    4  Aave   AAVE  2020-10-08 23:59:59  44.902511  36.696057  39.885262   \n",
       "4    5  Aave   AAVE  2020-10-09 23:59:59  47.569533  43.291776  43.764463   \n",
       "\n",
       "       Close        Volume     Marketcap  \n",
       "0  53.219243  0.000000e+00  8.912813e+07  \n",
       "1  42.401599  5.830915e+05  7.101144e+07  \n",
       "2  40.083976  6.828342e+05  6.713004e+07  \n",
       "3  43.764463  1.658817e+06  2.202651e+08  \n",
       "4  46.817744  8.155377e+05  2.356322e+08  "
      ]
     },
     "execution_count": 29,
     "metadata": {},
     "output_type": "execute_result"
    }
   ],
   "source": [
    "df.head()"
   ]
  },
  {
   "cell_type": "code",
   "execution_count": 30,
   "id": "e5692459-8729-4eea-b6c9-2b7bd5244f57",
   "metadata": {},
   "outputs": [],
   "source": [
    "x = df[\"Volume\"]\n",
    "y = df[\"High\"]"
   ]
  },
  {
   "cell_type": "code",
   "execution_count": 34,
   "id": "02acf180-e29a-4e21-bf67-25440f67ceb4",
   "metadata": {},
   "outputs": [
    {
     "data": {
      "image/png": "[encoded data removed]",
      "text/plain": [
       "<Figure size 640x480 with 1 Axes>"
      ]
     },
     "metadata": {},
     "output_type": "display_data"
    }
   ],
   "source": [
    "plt.plot(x,y,\"r>\")\n",
    "plt.xlabel(\"Volume\")\n",
    "plt.ylabel(\"High Price\")\n",
    "plt.title(\"Test Plot\")\n",
    "plt.show()"
   ]
  },
  {
   "cell_type": "code",
   "execution_count": 35,
   "id": "b05d4f6a-16f7-43ec-98ab-f4b701c9e862",
   "metadata": {},
   "outputs": [],
   "source": [
    "x = np.linspace(0,15,10)\n",
    "y = x ** 2"
   ]
  },
  {
   "cell_type": "code",
   "execution_count": 38,
   "id": "b724db4d-94b7-47f2-aa2a-c6b636d4288d",
   "metadata": {},
   "outputs": [
    {
     "data": {
      "text/plain": [
       "[<matplotlib.lines.Line2D at 0x288a5cc50>]"
      ]
     },
     "execution_count": 38,
     "metadata": {},
     "output_type": "execute_result"
    },
    {
     "data": {
      "image/png": "[encoded data removed]",
      "text/plain": [
       "<Figure size 640x480 with 4 Axes>"
      ]
     },
     "metadata": {},
     "output_type": "display_data"
    }
   ],
   "source": [
    "plt.subplot(2,2,1)\n",
    "plt.plot(x,y,\"r>\")\n",
    "plt.subplot(2,2,2)\n",
    "plt.plot(y,x,\"b*-\")\n",
    "plt.subplot(2,2,3)\n",
    "plt.plot(x,y,\"g-\")\n",
    "plt.subplot(2,2,4)\n",
    "plt.plot(y,x,\"r*\")"
   ]
  },
  {
   "cell_type": "code",
   "execution_count": 39,
   "id": "920b4ace-ff13-4318-96ac-679164c64cd4",
   "metadata": {},
   "outputs": [
    {
     "data": {
      "text/plain": [
       "Text(0.5, 1.0, 'Axes inside plot')"
      ]
     },
     "execution_count": 39,
     "metadata": {},
     "output_type": "execute_result"
    },
    {
     "data": {
      "image/png": "[encoded data removed]",
      "text/plain": [
       "<Figure size 640x480 with 2 Axes>"
      ]
     },
     "metadata": {},
     "output_type": "display_data"
    }
   ],
   "source": [
    "fig = plt.figure()\n",
    "\n",
    "ax1 = fig.add_axes([0.1, 0.1, 0.8, 0.8])\n",
    "ax2 = fig.add_axes([0.2,0.5,0.4,0.3])\n",
    "\n",
    "ax1.plot(x,y,\"r\")\n",
    "ax1.set_xlabel(\"X_label_outside\")\n",
    "ax1.set_ylabel(\"Y_label_outside\")\n",
    "ax1.set_title(\"Ax main title\")\n",
    "\n",
    "ax2.plot(y,x,\"b\")\n",
    "ax2.set_xlabel(\"X_label_inside\")\n",
    "ax2.set_ylabel(\"Y_label_inside\")\n",
    "ax2.set_title(\"Axes inside plot\")"
   ]
  },
  {
   "cell_type": "code",
   "execution_count": null,
   "id": "0ddcab1a-db27-4ca1-bc7b-450884fdc600",
   "metadata": {},
   "outputs": [],
   "source": []
  }
 ],
 "metadata": {
  "kernelspec": {
   "display_name": "Python 3 (ipykernel)",
   "language": "python",
   "name": "python3"
  },
  "language_info": {
   "codemirror_mode": {
    "name": "ipython",
    "version": 3
   },
   "file_extension": ".py",
   "mimetype": "text/x-python",
   "name": "python",
   "nbconvert_exporter": "python",
   "pygments_lexer": "ipython3",
   "version": "3.11.5"
  }
 },
 "nbformat": 4,
 "nbformat_minor": 5
}

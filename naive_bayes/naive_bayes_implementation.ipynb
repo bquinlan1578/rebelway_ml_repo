{
 "cells": [
  {
   "cell_type": "code",
   "execution_count": 1,
   "id": "dbad0f74-0de8-472e-9782-5b71f36b3979",
   "metadata": {},
   "outputs": [],
   "source": [
    "import numpy as np\n",
    "import pandas as pd\n",
    "import os\n",
    "from collections import defaultdict"
   ]
  },
  {
   "cell_type": "code",
   "execution_count": 2,
   "id": "95432720-d894-437e-a7a8-676144548631",
   "metadata": {},
   "outputs": [],
   "source": [
    "df = pd.read_csv(\"/Users/felipepesantez/Documents/development/datasets/email_classification.csv\")"
   ]
  },
  {
   "cell_type": "code",
   "execution_count": 3,
   "id": "46a3228a-49c5-4f38-830b-40c07e8b6bdc",
   "metadata": {},
   "outputs": [
    {
     "data": {
      "text/html": [
       "<div>\n",
       "<style scoped>\n",
       "    .dataframe tbody tr th:only-of-type {\n",
       "        vertical-align: middle;\n",
       "    }\n",
       "\n",
       "    .dataframe tbody tr th {\n",
       "        vertical-align: top;\n",
       "    }\n",
       "\n",
       "    .dataframe thead th {\n",
       "        text-align: right;\n",
       "    }\n",
       "</style>\n",
       "<table border=\"1\" class=\"dataframe\">\n",
       "  <thead>\n",
       "    <tr style=\"text-align: right;\">\n",
       "      <th></th>\n",
       "      <th>email</th>\n",
       "      <th>label</th>\n",
       "    </tr>\n",
       "  </thead>\n",
       "  <tbody>\n",
       "    <tr>\n",
       "      <th>0</th>\n",
       "      <td>Upgrade to our premium plan for exclusive acce...</td>\n",
       "      <td>ham</td>\n",
       "    </tr>\n",
       "    <tr>\n",
       "      <th>1</th>\n",
       "      <td>Happy holidays from our team! Wishing you joy ...</td>\n",
       "      <td>ham</td>\n",
       "    </tr>\n",
       "    <tr>\n",
       "      <th>2</th>\n",
       "      <td>We're hiring! Check out our career opportuniti...</td>\n",
       "      <td>ham</td>\n",
       "    </tr>\n",
       "    <tr>\n",
       "      <th>3</th>\n",
       "      <td>Your Amazon account has been locked. Click her...</td>\n",
       "      <td>spam</td>\n",
       "    </tr>\n",
       "    <tr>\n",
       "      <th>4</th>\n",
       "      <td>Your opinion matters! Take our survey and help...</td>\n",
       "      <td>ham</td>\n",
       "    </tr>\n",
       "  </tbody>\n",
       "</table>\n",
       "</div>"
      ],
      "text/plain": [
       "                                               email label\n",
       "0  Upgrade to our premium plan for exclusive acce...   ham\n",
       "1  Happy holidays from our team! Wishing you joy ...   ham\n",
       "2  We're hiring! Check out our career opportuniti...   ham\n",
       "3  Your Amazon account has been locked. Click her...  spam\n",
       "4  Your opinion matters! Take our survey and help...   ham"
      ]
     },
     "execution_count": 3,
     "metadata": {},
     "output_type": "execute_result"
    }
   ],
   "source": [
    "df.head()"
   ]
  },
  {
   "cell_type": "code",
   "execution_count": 4,
   "id": "24f4405a-a890-4eb7-adab-4e3b34cfb520",
   "metadata": {},
   "outputs": [
    {
     "name": "stdout",
     "output_type": "stream",
     "text": [
      "<class 'pandas.core.frame.DataFrame'>\n",
      "RangeIndex: 179 entries, 0 to 178\n",
      "Data columns (total 2 columns):\n",
      " #   Column  Non-Null Count  Dtype \n",
      "---  ------  --------------  ----- \n",
      " 0   email   179 non-null    object\n",
      " 1   label   179 non-null    object\n",
      "dtypes: object(2)\n",
      "memory usage: 2.9+ KB\n"
     ]
    }
   ],
   "source": [
    "df.info()"
   ]
  },
  {
   "cell_type": "code",
   "execution_count": 5,
   "id": "42e6afeb-a062-4682-bd08-c48d941f7f43",
   "metadata": {},
   "outputs": [
    {
     "data": {
      "text/html": [
       "<div>\n",
       "<style scoped>\n",
       "    .dataframe tbody tr th:only-of-type {\n",
       "        vertical-align: middle;\n",
       "    }\n",
       "\n",
       "    .dataframe tbody tr th {\n",
       "        vertical-align: top;\n",
       "    }\n",
       "\n",
       "    .dataframe thead th {\n",
       "        text-align: right;\n",
       "    }\n",
       "</style>\n",
       "<table border=\"1\" class=\"dataframe\">\n",
       "  <thead>\n",
       "    <tr style=\"text-align: right;\">\n",
       "      <th></th>\n",
       "      <th>email</th>\n",
       "      <th>label</th>\n",
       "    </tr>\n",
       "  </thead>\n",
       "  <tbody>\n",
       "    <tr>\n",
       "      <th>count</th>\n",
       "      <td>179</td>\n",
       "      <td>179</td>\n",
       "    </tr>\n",
       "    <tr>\n",
       "      <th>unique</th>\n",
       "      <td>150</td>\n",
       "      <td>2</td>\n",
       "    </tr>\n",
       "    <tr>\n",
       "      <th>top</th>\n",
       "      <td>You've been selected for a free trial of our p...</td>\n",
       "      <td>ham</td>\n",
       "    </tr>\n",
       "    <tr>\n",
       "      <th>freq</th>\n",
       "      <td>4</td>\n",
       "      <td>100</td>\n",
       "    </tr>\n",
       "  </tbody>\n",
       "</table>\n",
       "</div>"
      ],
      "text/plain": [
       "                                                    email label\n",
       "count                                                 179   179\n",
       "unique                                                150     2\n",
       "top     You've been selected for a free trial of our p...   ham\n",
       "freq                                                    4   100"
      ]
     },
     "execution_count": 5,
     "metadata": {},
     "output_type": "execute_result"
    }
   ],
   "source": [
    "df.describe()"
   ]
  },
  {
   "cell_type": "code",
   "execution_count": 6,
   "id": "46fa06dc-8c7b-4fe9-8f0a-ae991e3077fa",
   "metadata": {},
   "outputs": [
    {
     "data": {
      "text/plain": [
       "label\n",
       "ham     100\n",
       "spam     79\n",
       "Name: count, dtype: int64"
      ]
     },
     "execution_count": 6,
     "metadata": {},
     "output_type": "execute_result"
    }
   ],
   "source": [
    "df['label'].value_counts()"
   ]
  },
  {
   "cell_type": "code",
   "execution_count": 8,
   "id": "786cb50a-84dd-454f-a9e7-edbd0b564ead",
   "metadata": {},
   "outputs": [
    {
     "data": {
      "text/html": [
       "<div>\n",
       "<style scoped>\n",
       "    .dataframe tbody tr th:only-of-type {\n",
       "        vertical-align: middle;\n",
       "    }\n",
       "\n",
       "    .dataframe tbody tr th {\n",
       "        vertical-align: top;\n",
       "    }\n",
       "\n",
       "    .dataframe thead th {\n",
       "        text-align: right;\n",
       "    }\n",
       "</style>\n",
       "<table border=\"1\" class=\"dataframe\">\n",
       "  <thead>\n",
       "    <tr style=\"text-align: right;\">\n",
       "      <th></th>\n",
       "      <th>email</th>\n",
       "      <th>label</th>\n",
       "    </tr>\n",
       "  </thead>\n",
       "  <tbody>\n",
       "    <tr>\n",
       "      <th>0</th>\n",
       "      <td>Upgrade to our premium plan for exclusive acce...</td>\n",
       "      <td>ham</td>\n",
       "    </tr>\n",
       "    <tr>\n",
       "      <th>1</th>\n",
       "      <td>Happy holidays from our team! Wishing you joy ...</td>\n",
       "      <td>ham</td>\n",
       "    </tr>\n",
       "    <tr>\n",
       "      <th>2</th>\n",
       "      <td>We're hiring! Check out our career opportuniti...</td>\n",
       "      <td>ham</td>\n",
       "    </tr>\n",
       "    <tr>\n",
       "      <th>3</th>\n",
       "      <td>Your Amazon account has been locked. Click her...</td>\n",
       "      <td>spam</td>\n",
       "    </tr>\n",
       "    <tr>\n",
       "      <th>4</th>\n",
       "      <td>Your opinion matters! Take our survey and help...</td>\n",
       "      <td>ham</td>\n",
       "    </tr>\n",
       "  </tbody>\n",
       "</table>\n",
       "</div>"
      ],
      "text/plain": [
       "                                               email label\n",
       "0  Upgrade to our premium plan for exclusive acce...   ham\n",
       "1  Happy holidays from our team! Wishing you joy ...   ham\n",
       "2  We're hiring! Check out our career opportuniti...   ham\n",
       "3  Your Amazon account has been locked. Click her...  spam\n",
       "4  Your opinion matters! Take our survey and help...   ham"
      ]
     },
     "execution_count": 8,
     "metadata": {},
     "output_type": "execute_result"
    }
   ],
   "source": [
    "df.head()"
   ]
  },
  {
   "cell_type": "code",
   "execution_count": 9,
   "id": "b013d0f7-a225-4178-bd58-1f68365961ce",
   "metadata": {},
   "outputs": [],
   "source": [
    "import string\n",
    "#preprocessing the data\n",
    "def preprocess_text(text):\n",
    "    text = text.lower()\n",
    "    text = text.translate(str.maketrans('','', string.punctuation))\n",
    "    return text    "
   ]
  },
  {
   "cell_type": "code",
   "execution_count": 10,
   "id": "0c9fed46-280d-4c6f-b791-0245ef8179d4",
   "metadata": {},
   "outputs": [],
   "source": [
    "df['email'] = df['email'].apply(preprocess_text)"
   ]
  },
  {
   "cell_type": "code",
   "execution_count": 11,
   "id": "d66ac5b6-d7aa-4126-b0d9-f11b325e6213",
   "metadata": {},
   "outputs": [
    {
     "data": {
      "text/html": [
       "<div>\n",
       "<style scoped>\n",
       "    .dataframe tbody tr th:only-of-type {\n",
       "        vertical-align: middle;\n",
       "    }\n",
       "\n",
       "    .dataframe tbody tr th {\n",
       "        vertical-align: top;\n",
       "    }\n",
       "\n",
       "    .dataframe thead th {\n",
       "        text-align: right;\n",
       "    }\n",
       "</style>\n",
       "<table border=\"1\" class=\"dataframe\">\n",
       "  <thead>\n",
       "    <tr style=\"text-align: right;\">\n",
       "      <th></th>\n",
       "      <th>email</th>\n",
       "      <th>label</th>\n",
       "    </tr>\n",
       "  </thead>\n",
       "  <tbody>\n",
       "    <tr>\n",
       "      <th>0</th>\n",
       "      <td>upgrade to our premium plan for exclusive acce...</td>\n",
       "      <td>ham</td>\n",
       "    </tr>\n",
       "    <tr>\n",
       "      <th>1</th>\n",
       "      <td>happy holidays from our team wishing you joy a...</td>\n",
       "      <td>ham</td>\n",
       "    </tr>\n",
       "    <tr>\n",
       "      <th>2</th>\n",
       "      <td>were hiring check out our career opportunities...</td>\n",
       "      <td>ham</td>\n",
       "    </tr>\n",
       "    <tr>\n",
       "      <th>3</th>\n",
       "      <td>your amazon account has been locked click here...</td>\n",
       "      <td>spam</td>\n",
       "    </tr>\n",
       "    <tr>\n",
       "      <th>4</th>\n",
       "      <td>your opinion matters take our survey and help ...</td>\n",
       "      <td>ham</td>\n",
       "    </tr>\n",
       "  </tbody>\n",
       "</table>\n",
       "</div>"
      ],
      "text/plain": [
       "                                               email label\n",
       "0  upgrade to our premium plan for exclusive acce...   ham\n",
       "1  happy holidays from our team wishing you joy a...   ham\n",
       "2  were hiring check out our career opportunities...   ham\n",
       "3  your amazon account has been locked click here...  spam\n",
       "4  your opinion matters take our survey and help ...   ham"
      ]
     },
     "execution_count": 11,
     "metadata": {},
     "output_type": "execute_result"
    }
   ],
   "source": [
    "df.head()"
   ]
  },
  {
   "cell_type": "code",
   "execution_count": 12,
   "id": "71fd25ee-3fba-44bd-8fca-f018d8ee2f09",
   "metadata": {},
   "outputs": [],
   "source": [
    "#tokenize\n",
    "def tokenize(text):\n",
    "    return text.split()\n",
    "\n",
    "df['tokens'] = df['email'].apply(tokenize)"
   ]
  },
  {
   "cell_type": "code",
   "execution_count": 13,
   "id": "db3c620b-43d1-4962-adb6-3af3a22dcb1c",
   "metadata": {},
   "outputs": [
    {
     "data": {
      "text/html": [
       "<div>\n",
       "<style scoped>\n",
       "    .dataframe tbody tr th:only-of-type {\n",
       "        vertical-align: middle;\n",
       "    }\n",
       "\n",
       "    .dataframe tbody tr th {\n",
       "        vertical-align: top;\n",
       "    }\n",
       "\n",
       "    .dataframe thead th {\n",
       "        text-align: right;\n",
       "    }\n",
       "</style>\n",
       "<table border=\"1\" class=\"dataframe\">\n",
       "  <thead>\n",
       "    <tr style=\"text-align: right;\">\n",
       "      <th></th>\n",
       "      <th>email</th>\n",
       "      <th>label</th>\n",
       "      <th>tokens</th>\n",
       "    </tr>\n",
       "  </thead>\n",
       "  <tbody>\n",
       "    <tr>\n",
       "      <th>0</th>\n",
       "      <td>upgrade to our premium plan for exclusive acce...</td>\n",
       "      <td>ham</td>\n",
       "      <td>[upgrade, to, our, premium, plan, for, exclusi...</td>\n",
       "    </tr>\n",
       "    <tr>\n",
       "      <th>1</th>\n",
       "      <td>happy holidays from our team wishing you joy a...</td>\n",
       "      <td>ham</td>\n",
       "      <td>[happy, holidays, from, our, team, wishing, yo...</td>\n",
       "    </tr>\n",
       "    <tr>\n",
       "      <th>2</th>\n",
       "      <td>were hiring check out our career opportunities...</td>\n",
       "      <td>ham</td>\n",
       "      <td>[were, hiring, check, out, our, career, opport...</td>\n",
       "    </tr>\n",
       "    <tr>\n",
       "      <th>3</th>\n",
       "      <td>your amazon account has been locked click here...</td>\n",
       "      <td>spam</td>\n",
       "      <td>[your, amazon, account, has, been, locked, cli...</td>\n",
       "    </tr>\n",
       "    <tr>\n",
       "      <th>4</th>\n",
       "      <td>your opinion matters take our survey and help ...</td>\n",
       "      <td>ham</td>\n",
       "      <td>[your, opinion, matters, take, our, survey, an...</td>\n",
       "    </tr>\n",
       "  </tbody>\n",
       "</table>\n",
       "</div>"
      ],
      "text/plain": [
       "                                               email label  \\\n",
       "0  upgrade to our premium plan for exclusive acce...   ham   \n",
       "1  happy holidays from our team wishing you joy a...   ham   \n",
       "2  were hiring check out our career opportunities...   ham   \n",
       "3  your amazon account has been locked click here...  spam   \n",
       "4  your opinion matters take our survey and help ...   ham   \n",
       "\n",
       "                                              tokens  \n",
       "0  [upgrade, to, our, premium, plan, for, exclusi...  \n",
       "1  [happy, holidays, from, our, team, wishing, yo...  \n",
       "2  [were, hiring, check, out, our, career, opport...  \n",
       "3  [your, amazon, account, has, been, locked, cli...  \n",
       "4  [your, opinion, matters, take, our, survey, an...  "
      ]
     },
     "execution_count": 13,
     "metadata": {},
     "output_type": "execute_result"
    }
   ],
   "source": [
    "df.head()"
   ]
  },
  {
   "cell_type": "code",
   "execution_count": 14,
   "id": "ac7685c9-a9a0-40c5-99cf-ad9e2f9fb043",
   "metadata": {},
   "outputs": [],
   "source": [
    "vocab = set()\n",
    "for tokens in df['tokens']:\n",
    "    vocab.update(tokens)\n"
   ]
  },
  {
   "cell_type": "code",
   "execution_count": 15,
   "id": "41a6d6f6-20ec-40e6-be56-01eff5bb2233",
   "metadata": {},
   "outputs": [],
   "source": [
    "#initialize dictionaries\n",
    "word_counts = defaultdict(lambda: {'ham':0, 'spam':0})\n",
    "class_counts = {'ham': 0, 'spam': 0}"
   ]
  },
  {
   "cell_type": "code",
   "execution_count": 16,
   "id": "e09ac62b-e122-4c9a-83aa-2fe555973f5e",
   "metadata": {},
   "outputs": [],
   "source": [
    "for i, row in df.iterrows():\n",
    "    class_label = row['label']\n",
    "    class_counts[class_label] += 1\n",
    "    for word in row['tokens']:\n",
    "        word_counts[word][class_label] += 1"
   ]
  },
  {
   "cell_type": "code",
   "execution_count": 21,
   "id": "b5b1b846-054e-4b34-aa39-f4978a3bbda5",
   "metadata": {},
   "outputs": [],
   "source": [
    "#calculate prior probabilities\n",
    "total_samples = len(df)\n",
    "prior_ham = class_counts['ham'] / total_samples\n",
    "prior_spam = class_counts['spam']/ total_samples"
   ]
  },
  {
   "cell_type": "code",
   "execution_count": 22,
   "id": "bc536435-4b10-4cb9-bbed-0aa837381c11",
   "metadata": {},
   "outputs": [],
   "source": [
    "#calculate likelihood probabilities\n",
    "likelikehood_probs = {}\n",
    "for word in vocab:\n",
    "    likelikehood_probs[word] = {\n",
    "        'ham': (word_counts[word]['ham']+1) / (class_counts['ham'] + len(vocab)),\n",
    "        'spam': (word_counts[word]['spam']+1) / (class_counts['spam'] + len(vocab))\n",
    "    }"
   ]
  },
  {
   "cell_type": "code",
   "execution_count": 28,
   "id": "5127f219-055a-46fc-9e49-6af61b0eb4b1",
   "metadata": {},
   "outputs": [],
   "source": [
    "#prediction function\n",
    "def predict(email, threshold=0.6):\n",
    "    tokens = tokenize(preprocess_text(email))\n",
    "    log_prob_ham = np.log(prior_ham) + sum(np.log(likelikehood_probs.get(word, {'ham':1})['ham']) for word in tokens)\n",
    "    log_prob_spam = np.log(prior_spam) + sum(np.log(likelikehood_probs.get(word, {'spam':1})['spam']) for word in tokens)\n",
    "\n",
    "    if log_prob_ham - log_prob_spam > np.log(threshold):\n",
    "        return 'ham'\n",
    "    else:\n",
    "        return 'spam'\n"
   ]
  },
  {
   "cell_type": "code",
   "execution_count": null,
   "id": "f33310a1-c597-4b2b-af89-f830af91f5af",
   "metadata": {},
   "outputs": [],
   "source": [
    "#inference\n",
    "new_email = \"Win bitcoin today, click here: \"\n",
    "predicted_label = predict(new_email, threshold=0.5)\n",
    "print(\"Predicted label: \", predicted_label)"
   ]
  }
 ],
 "metadata": {
  "kernelspec": {
   "display_name": "Python 3 (ipykernel)",
   "language": "python",
   "name": "python3"
  },
  "language_info": {
   "codemirror_mode": {
    "name": "ipython",
    "version": 3
   },
   "file_extension": ".py",
   "mimetype": "text/x-python",
   "name": "python",
   "nbconvert_exporter": "python",
   "pygments_lexer": "ipython3",
   "version": "3.11.5"
  }
 },
 "nbformat": 4,
 "nbformat_minor": 5
}
